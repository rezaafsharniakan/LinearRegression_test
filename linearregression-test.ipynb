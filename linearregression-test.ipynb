{
 "cells": [
  {
   "cell_type": "code",
   "execution_count": 1,
   "id": "e1da4049",
   "metadata": {
    "_cell_guid": "b1076dfc-b9ad-4769-8c92-a6c4dae69d19",
    "_uuid": "8f2839f25d086af736a60e9eeb907d3b93b6e0e5",
    "execution": {
     "iopub.execute_input": "2022-02-10T22:14:23.390012Z",
     "iopub.status.busy": "2022-02-10T22:14:23.388154Z",
     "iopub.status.idle": "2022-02-10T22:14:23.407179Z",
     "shell.execute_reply": "2022-02-10T22:14:23.406366Z",
     "shell.execute_reply.started": "2022-02-10T21:33:41.669952Z"
    },
    "papermill": {
     "duration": 0.039003,
     "end_time": "2022-02-10T22:14:23.407372",
     "exception": false,
     "start_time": "2022-02-10T22:14:23.368369",
     "status": "completed"
    },
    "tags": []
   },
   "outputs": [
    {
     "name": "stdout",
     "output_type": "stream",
     "text": [
      "/kaggle/input/linearregressiontest/WestRoxbury.csv\n"
     ]
    }
   ],
   "source": [
    "# This Python 3 environment comes with many helpful analytics libraries installed\n",
    "# It is defined by the kaggle/python Docker image: https://github.com/kaggle/docker-python\n",
    "# For example, here's several helpful packages to load\n",
    "\n",
    "import numpy as np # linear algebra\n",
    "import pandas as pd # data processing, CSV file I/O (e.g. pd.read_csv)\n",
    "\n",
    "# Input data files are available in the read-only \"../input/\" directory\n",
    "# For example, running this (by clicking run or pressing Shift+Enter) will list all files under the input directory\n",
    "\n",
    "import os\n",
    "for dirname, _, filenames in os.walk('/kaggle/input'):\n",
    "    for filename in filenames:\n",
    "        print(os.path.join(dirname, filename))\n",
    "\n",
    "# You can write up to 20GB to the current directory (/kaggle/working/) that gets preserved as output when you create a version using \"Save & Run All\" \n",
    "# You can also write temporary files to /kaggle/temp/, but they won't be saved outside of the current session"
   ]
  },
  {
   "cell_type": "code",
   "execution_count": 2,
   "id": "4bf710f2",
   "metadata": {
    "execution": {
     "iopub.execute_input": "2022-02-10T22:14:23.440025Z",
     "iopub.status.busy": "2022-02-10T22:14:23.439288Z",
     "iopub.status.idle": "2022-02-10T22:14:24.682472Z",
     "shell.execute_reply": "2022-02-10T22:14:24.681889Z",
     "shell.execute_reply.started": "2022-02-10T21:34:06.231231Z"
    },
    "papermill": {
     "duration": 1.260311,
     "end_time": "2022-02-10T22:14:24.682615",
     "exception": false,
     "start_time": "2022-02-10T22:14:23.422304",
     "status": "completed"
    },
    "tags": []
   },
   "outputs": [],
   "source": [
    "import numpy as np\n",
    "import pandas as pd\n",
    "from sklearn.linear_model import LinearRegression"
   ]
  },
  {
   "cell_type": "code",
   "execution_count": 3,
   "id": "ed0eb5a5",
   "metadata": {
    "execution": {
     "iopub.execute_input": "2022-02-10T22:14:24.717011Z",
     "iopub.status.busy": "2022-02-10T22:14:24.716256Z",
     "iopub.status.idle": "2022-02-10T22:14:24.750242Z",
     "shell.execute_reply": "2022-02-10T22:14:24.750769Z",
     "shell.execute_reply.started": "2022-02-10T21:46:52.090789Z"
    },
    "papermill": {
     "duration": 0.05413,
     "end_time": "2022-02-10T22:14:24.750983",
     "exception": false,
     "start_time": "2022-02-10T22:14:24.696853",
     "status": "completed"
    },
    "tags": []
   },
   "outputs": [
    {
     "data": {
      "text/plain": [
       "Index(['TOTAL VALUE ', 'TAX', 'LOT SQFT ', 'YR BUILT', 'GROSS AREA ',\n",
       "       'LIVING AREA', 'FLOORS ', 'ROOMS', 'BEDROOMS ', 'FULL BATH',\n",
       "       'HALF BATH', 'KITCHEN', 'FIREPLACE', 'REMODEL'],\n",
       "      dtype='object')"
      ]
     },
     "execution_count": 3,
     "metadata": {},
     "output_type": "execute_result"
    }
   ],
   "source": [
    "housing_df=pd.read_csv('../input/linearregressiontest/WestRoxbury.csv')\n",
    "housing_df.columns"
   ]
  },
  {
   "cell_type": "code",
   "execution_count": 4,
   "id": "059c7121",
   "metadata": {
    "execution": {
     "iopub.execute_input": "2022-02-10T22:14:24.787217Z",
     "iopub.status.busy": "2022-02-10T22:14:24.786090Z",
     "iopub.status.idle": "2022-02-10T22:14:24.788027Z",
     "shell.execute_reply": "2022-02-10T22:14:24.788531Z",
     "shell.execute_reply.started": "2022-02-10T21:46:55.498071Z"
    },
    "papermill": {
     "duration": 0.023157,
     "end_time": "2022-02-10T22:14:24.788716",
     "exception": false,
     "start_time": "2022-02-10T22:14:24.765559",
     "status": "completed"
    },
    "tags": []
   },
   "outputs": [],
   "source": [
    "housing_df.columns=[s.strip().replace(' ','_') for s in housing_df.columns]"
   ]
  },
  {
   "cell_type": "code",
   "execution_count": 5,
   "id": "464000f2",
   "metadata": {
    "execution": {
     "iopub.execute_input": "2022-02-10T22:14:24.821886Z",
     "iopub.status.busy": "2022-02-10T22:14:24.820722Z",
     "iopub.status.idle": "2022-02-10T22:14:24.826981Z",
     "shell.execute_reply": "2022-02-10T22:14:24.827585Z",
     "shell.execute_reply.started": "2022-02-10T21:46:58.704206Z"
    },
    "papermill": {
     "duration": 0.024624,
     "end_time": "2022-02-10T22:14:24.827771",
     "exception": false,
     "start_time": "2022-02-10T22:14:24.803147",
     "status": "completed"
    },
    "tags": []
   },
   "outputs": [
    {
     "data": {
      "text/plain": [
       "Index(['TOTAL_VALUE', 'TAX', 'LOT_SQFT', 'YR_BUILT', 'GROSS_AREA',\n",
       "       'LIVING_AREA', 'FLOORS', 'ROOMS', 'BEDROOMS', 'FULL_BATH', 'HALF_BATH',\n",
       "       'KITCHEN', 'FIREPLACE', 'REMODEL'],\n",
       "      dtype='object')"
      ]
     },
     "execution_count": 5,
     "metadata": {},
     "output_type": "execute_result"
    }
   ],
   "source": [
    "housing_df.columns"
   ]
  },
  {
   "cell_type": "code",
   "execution_count": 6,
   "id": "e2202ef1",
   "metadata": {
    "execution": {
     "iopub.execute_input": "2022-02-10T22:14:24.862669Z",
     "iopub.status.busy": "2022-02-10T22:14:24.861268Z",
     "iopub.status.idle": "2022-02-10T22:14:24.880399Z",
     "shell.execute_reply": "2022-02-10T22:14:24.880989Z",
     "shell.execute_reply.started": "2022-02-10T21:47:26.186832Z"
    },
    "papermill": {
     "duration": 0.038054,
     "end_time": "2022-02-10T22:14:24.881190",
     "exception": false,
     "start_time": "2022-02-10T22:14:24.843136",
     "status": "completed"
    },
    "tags": []
   },
   "outputs": [
    {
     "data": {
      "text/html": [
       "<div>\n",
       "<style scoped>\n",
       "    .dataframe tbody tr th:only-of-type {\n",
       "        vertical-align: middle;\n",
       "    }\n",
       "\n",
       "    .dataframe tbody tr th {\n",
       "        vertical-align: top;\n",
       "    }\n",
       "\n",
       "    .dataframe thead th {\n",
       "        text-align: right;\n",
       "    }\n",
       "</style>\n",
       "<table border=\"1\" class=\"dataframe\">\n",
       "  <thead>\n",
       "    <tr style=\"text-align: right;\">\n",
       "      <th></th>\n",
       "      <th>TOTAL_VALUE</th>\n",
       "      <th>TAX</th>\n",
       "      <th>LOT_SQFT</th>\n",
       "      <th>YR_BUILT</th>\n",
       "      <th>GROSS_AREA</th>\n",
       "      <th>LIVING_AREA</th>\n",
       "      <th>FLOORS</th>\n",
       "      <th>ROOMS</th>\n",
       "      <th>BEDROOMS</th>\n",
       "      <th>FULL_BATH</th>\n",
       "      <th>HALF_BATH</th>\n",
       "      <th>KITCHEN</th>\n",
       "      <th>FIREPLACE</th>\n",
       "      <th>REMODEL</th>\n",
       "    </tr>\n",
       "  </thead>\n",
       "  <tbody>\n",
       "    <tr>\n",
       "      <th>0</th>\n",
       "      <td>344.2</td>\n",
       "      <td>4330</td>\n",
       "      <td>9965</td>\n",
       "      <td>1880</td>\n",
       "      <td>2436</td>\n",
       "      <td>1352</td>\n",
       "      <td>2.0</td>\n",
       "      <td>6</td>\n",
       "      <td>3</td>\n",
       "      <td>1</td>\n",
       "      <td>1</td>\n",
       "      <td>1</td>\n",
       "      <td>0</td>\n",
       "      <td>None</td>\n",
       "    </tr>\n",
       "    <tr>\n",
       "      <th>1</th>\n",
       "      <td>412.6</td>\n",
       "      <td>5190</td>\n",
       "      <td>6590</td>\n",
       "      <td>1945</td>\n",
       "      <td>3108</td>\n",
       "      <td>1976</td>\n",
       "      <td>2.0</td>\n",
       "      <td>10</td>\n",
       "      <td>4</td>\n",
       "      <td>2</td>\n",
       "      <td>1</td>\n",
       "      <td>1</td>\n",
       "      <td>0</td>\n",
       "      <td>Recent</td>\n",
       "    </tr>\n",
       "  </tbody>\n",
       "</table>\n",
       "</div>"
      ],
      "text/plain": [
       "   TOTAL_VALUE   TAX  LOT_SQFT  YR_BUILT  GROSS_AREA  LIVING_AREA  FLOORS  \\\n",
       "0        344.2  4330      9965      1880        2436         1352     2.0   \n",
       "1        412.6  5190      6590      1945        3108         1976     2.0   \n",
       "\n",
       "   ROOMS  BEDROOMS  FULL_BATH  HALF_BATH  KITCHEN  FIREPLACE REMODEL  \n",
       "0      6         3          1          1        1          0    None  \n",
       "1     10         4          2          1        1          0  Recent  "
      ]
     },
     "execution_count": 6,
     "metadata": {},
     "output_type": "execute_result"
    }
   ],
   "source": [
    "housing_df.head(2)"
   ]
  },
  {
   "cell_type": "code",
   "execution_count": 7,
   "id": "14d1b442",
   "metadata": {
    "execution": {
     "iopub.execute_input": "2022-02-10T22:14:24.915355Z",
     "iopub.status.busy": "2022-02-10T22:14:24.914712Z",
     "iopub.status.idle": "2022-02-10T22:14:24.943955Z",
     "shell.execute_reply": "2022-02-10T22:14:24.944449Z",
     "shell.execute_reply.started": "2022-02-10T21:47:46.706822Z"
    },
    "papermill": {
     "duration": 0.048041,
     "end_time": "2022-02-10T22:14:24.944614",
     "exception": false,
     "start_time": "2022-02-10T22:14:24.896573",
     "status": "completed"
    },
    "tags": []
   },
   "outputs": [
    {
     "data": {
      "text/html": [
       "<div>\n",
       "<style scoped>\n",
       "    .dataframe tbody tr th:only-of-type {\n",
       "        vertical-align: middle;\n",
       "    }\n",
       "\n",
       "    .dataframe tbody tr th {\n",
       "        vertical-align: top;\n",
       "    }\n",
       "\n",
       "    .dataframe thead th {\n",
       "        text-align: right;\n",
       "    }\n",
       "</style>\n",
       "<table border=\"1\" class=\"dataframe\">\n",
       "  <thead>\n",
       "    <tr style=\"text-align: right;\">\n",
       "      <th></th>\n",
       "      <th>TOTAL_VALUE</th>\n",
       "      <th>TAX</th>\n",
       "      <th>LOT_SQFT</th>\n",
       "      <th>YR_BUILT</th>\n",
       "      <th>GROSS_AREA</th>\n",
       "      <th>LIVING_AREA</th>\n",
       "      <th>FLOORS</th>\n",
       "      <th>ROOMS</th>\n",
       "      <th>BEDROOMS</th>\n",
       "      <th>FULL_BATH</th>\n",
       "      <th>HALF_BATH</th>\n",
       "      <th>KITCHEN</th>\n",
       "      <th>FIREPLACE</th>\n",
       "      <th>REMODEL_Old</th>\n",
       "      <th>REMODEL_Recent</th>\n",
       "    </tr>\n",
       "  </thead>\n",
       "  <tbody>\n",
       "    <tr>\n",
       "      <th>0</th>\n",
       "      <td>344.2</td>\n",
       "      <td>4330</td>\n",
       "      <td>9965</td>\n",
       "      <td>1880</td>\n",
       "      <td>2436</td>\n",
       "      <td>1352</td>\n",
       "      <td>2.0</td>\n",
       "      <td>6</td>\n",
       "      <td>3</td>\n",
       "      <td>1</td>\n",
       "      <td>1</td>\n",
       "      <td>1</td>\n",
       "      <td>0</td>\n",
       "      <td>0</td>\n",
       "      <td>0</td>\n",
       "    </tr>\n",
       "    <tr>\n",
       "      <th>1</th>\n",
       "      <td>412.6</td>\n",
       "      <td>5190</td>\n",
       "      <td>6590</td>\n",
       "      <td>1945</td>\n",
       "      <td>3108</td>\n",
       "      <td>1976</td>\n",
       "      <td>2.0</td>\n",
       "      <td>10</td>\n",
       "      <td>4</td>\n",
       "      <td>2</td>\n",
       "      <td>1</td>\n",
       "      <td>1</td>\n",
       "      <td>0</td>\n",
       "      <td>0</td>\n",
       "      <td>1</td>\n",
       "    </tr>\n",
       "  </tbody>\n",
       "</table>\n",
       "</div>"
      ],
      "text/plain": [
       "   TOTAL_VALUE   TAX  LOT_SQFT  YR_BUILT  GROSS_AREA  LIVING_AREA  FLOORS  \\\n",
       "0        344.2  4330      9965      1880        2436         1352     2.0   \n",
       "1        412.6  5190      6590      1945        3108         1976     2.0   \n",
       "\n",
       "   ROOMS  BEDROOMS  FULL_BATH  HALF_BATH  KITCHEN  FIREPLACE  REMODEL_Old  \\\n",
       "0      6         3          1          1        1          0            0   \n",
       "1     10         4          2          1        1          0            0   \n",
       "\n",
       "   REMODEL_Recent  \n",
       "0               0  \n",
       "1               1  "
      ]
     },
     "execution_count": 7,
     "metadata": {},
     "output_type": "execute_result"
    }
   ],
   "source": [
    "housing_df=pd.get_dummies(housing_df,prefix_sep='_',drop_first=True)\n",
    "housing_df.head(2)"
   ]
  },
  {
   "cell_type": "code",
   "execution_count": 8,
   "id": "f403f070",
   "metadata": {
    "execution": {
     "iopub.execute_input": "2022-02-10T22:14:24.981139Z",
     "iopub.status.busy": "2022-02-10T22:14:24.980383Z",
     "iopub.status.idle": "2022-02-10T22:14:24.985227Z",
     "shell.execute_reply": "2022-02-10T22:14:24.984683Z",
     "shell.execute_reply.started": "2022-02-10T21:50:12.130282Z"
    },
    "papermill": {
     "duration": 0.024756,
     "end_time": "2022-02-10T22:14:24.985373",
     "exception": false,
     "start_time": "2022-02-10T22:14:24.960617",
     "status": "completed"
    },
    "tags": []
   },
   "outputs": [],
   "source": [
    "#creat list of perdictors and outcome\n",
    "excludeColumns=('TOTAL_VALUE','TAX')\n",
    "predictors=[s for s in housing_df.columns if s not in excludeColumns]\n",
    "outcome='TOTAL_VALUE'"
   ]
  },
  {
   "cell_type": "code",
   "execution_count": 9,
   "id": "89d98b82",
   "metadata": {
    "execution": {
     "iopub.execute_input": "2022-02-10T22:14:25.024697Z",
     "iopub.status.busy": "2022-02-10T22:14:25.024009Z",
     "iopub.status.idle": "2022-02-10T22:14:25.032506Z",
     "shell.execute_reply": "2022-02-10T22:14:25.031922Z",
     "shell.execute_reply.started": "2022-02-10T21:51:11.947889Z"
    },
    "papermill": {
     "duration": 0.031077,
     "end_time": "2022-02-10T22:14:25.032649",
     "exception": false,
     "start_time": "2022-02-10T22:14:25.001572",
     "status": "completed"
    },
    "tags": []
   },
   "outputs": [],
   "source": [
    "#partition data\n",
    "from sklearn.model_selection import train_test_split\n",
    "x=housing_df[predictors]\n",
    "y=housing_df[outcome]\n",
    "train_x,valid_x,train_y,valid_y= train_test_split(x,y,test_size=0.4,random_state=1)"
   ]
  },
  {
   "cell_type": "code",
   "execution_count": 10,
   "id": "b78f6c9e",
   "metadata": {
    "execution": {
     "iopub.execute_input": "2022-02-10T22:14:25.068537Z",
     "iopub.status.busy": "2022-02-10T22:14:25.067902Z",
     "iopub.status.idle": "2022-02-10T22:14:25.114638Z",
     "shell.execute_reply": "2022-02-10T22:14:25.113774Z",
     "shell.execute_reply.started": "2022-02-10T21:51:57.585172Z"
    },
    "papermill": {
     "duration": 0.065819,
     "end_time": "2022-02-10T22:14:25.114875",
     "exception": false,
     "start_time": "2022-02-10T22:14:25.049056",
     "status": "completed"
    },
    "tags": []
   },
   "outputs": [
    {
     "data": {
      "text/html": [
       "<div>\n",
       "<style scoped>\n",
       "    .dataframe tbody tr th:only-of-type {\n",
       "        vertical-align: middle;\n",
       "    }\n",
       "\n",
       "    .dataframe tbody tr th {\n",
       "        vertical-align: top;\n",
       "    }\n",
       "\n",
       "    .dataframe thead th {\n",
       "        text-align: right;\n",
       "    }\n",
       "</style>\n",
       "<table border=\"1\" class=\"dataframe\">\n",
       "  <thead>\n",
       "    <tr style=\"text-align: right;\">\n",
       "      <th></th>\n",
       "      <th>TOTAL_VALUE</th>\n",
       "      <th>predicted</th>\n",
       "      <th>residual</th>\n",
       "    </tr>\n",
       "  </thead>\n",
       "  <tbody>\n",
       "    <tr>\n",
       "      <th>2024</th>\n",
       "      <td>392.0</td>\n",
       "      <td>387.726258</td>\n",
       "      <td>4.273742</td>\n",
       "    </tr>\n",
       "    <tr>\n",
       "      <th>5140</th>\n",
       "      <td>476.3</td>\n",
       "      <td>430.785540</td>\n",
       "      <td>45.514460</td>\n",
       "    </tr>\n",
       "    <tr>\n",
       "      <th>5259</th>\n",
       "      <td>367.4</td>\n",
       "      <td>384.042952</td>\n",
       "      <td>-16.642952</td>\n",
       "    </tr>\n",
       "    <tr>\n",
       "      <th>421</th>\n",
       "      <td>350.3</td>\n",
       "      <td>369.005551</td>\n",
       "      <td>-18.705551</td>\n",
       "    </tr>\n",
       "    <tr>\n",
       "      <th>1401</th>\n",
       "      <td>348.1</td>\n",
       "      <td>314.725722</td>\n",
       "      <td>33.374278</td>\n",
       "    </tr>\n",
       "  </tbody>\n",
       "</table>\n",
       "</div>"
      ],
      "text/plain": [
       "      TOTAL_VALUE   predicted   residual\n",
       "2024        392.0  387.726258   4.273742\n",
       "5140        476.3  430.785540  45.514460\n",
       "5259        367.4  384.042952 -16.642952\n",
       "421         350.3  369.005551 -18.705551\n",
       "1401        348.1  314.725722  33.374278"
      ]
     },
     "execution_count": 10,
     "metadata": {},
     "output_type": "execute_result"
    }
   ],
   "source": [
    "model=LinearRegression()\n",
    "model.fit(train_x,train_y)\n",
    "train_pred=model.predict(train_x)\n",
    "train_results=pd.DataFrame({'TOTAL_VALUE':train_y,'predicted':train_pred,'residual':train_y-train_pred})\n",
    "train_results.head()"
   ]
  },
  {
   "cell_type": "code",
   "execution_count": 11,
   "id": "e417aebd",
   "metadata": {
    "execution": {
     "iopub.execute_input": "2022-02-10T22:14:25.226955Z",
     "iopub.status.busy": "2022-02-10T22:14:25.225691Z",
     "iopub.status.idle": "2022-02-10T22:14:25.244125Z",
     "shell.execute_reply": "2022-02-10T22:14:25.245028Z",
     "shell.execute_reply.started": "2022-02-10T21:53:01.228214Z"
    },
    "papermill": {
     "duration": 0.075653,
     "end_time": "2022-02-10T22:14:25.245332",
     "exception": false,
     "start_time": "2022-02-10T22:14:25.169679",
     "status": "completed"
    },
    "tags": []
   },
   "outputs": [
    {
     "data": {
      "text/html": [
       "<div>\n",
       "<style scoped>\n",
       "    .dataframe tbody tr th:only-of-type {\n",
       "        vertical-align: middle;\n",
       "    }\n",
       "\n",
       "    .dataframe tbody tr th {\n",
       "        vertical-align: top;\n",
       "    }\n",
       "\n",
       "    .dataframe thead th {\n",
       "        text-align: right;\n",
       "    }\n",
       "</style>\n",
       "<table border=\"1\" class=\"dataframe\">\n",
       "  <thead>\n",
       "    <tr style=\"text-align: right;\">\n",
       "      <th></th>\n",
       "      <th>TOTAL_VALUE</th>\n",
       "      <th>predicted</th>\n",
       "      <th>residual</th>\n",
       "    </tr>\n",
       "  </thead>\n",
       "  <tbody>\n",
       "    <tr>\n",
       "      <th>1822</th>\n",
       "      <td>462.0</td>\n",
       "      <td>406.946377</td>\n",
       "      <td>55.053623</td>\n",
       "    </tr>\n",
       "    <tr>\n",
       "      <th>1998</th>\n",
       "      <td>370.4</td>\n",
       "      <td>362.888928</td>\n",
       "      <td>7.511072</td>\n",
       "    </tr>\n",
       "    <tr>\n",
       "      <th>5126</th>\n",
       "      <td>407.4</td>\n",
       "      <td>390.287208</td>\n",
       "      <td>17.112792</td>\n",
       "    </tr>\n",
       "    <tr>\n",
       "      <th>808</th>\n",
       "      <td>316.1</td>\n",
       "      <td>382.470203</td>\n",
       "      <td>-66.370203</td>\n",
       "    </tr>\n",
       "    <tr>\n",
       "      <th>4034</th>\n",
       "      <td>393.2</td>\n",
       "      <td>434.334998</td>\n",
       "      <td>-41.134998</td>\n",
       "    </tr>\n",
       "  </tbody>\n",
       "</table>\n",
       "</div>"
      ],
      "text/plain": [
       "      TOTAL_VALUE   predicted   residual\n",
       "1822        462.0  406.946377  55.053623\n",
       "1998        370.4  362.888928   7.511072\n",
       "5126        407.4  390.287208  17.112792\n",
       "808         316.1  382.470203 -66.370203\n",
       "4034        393.2  434.334998 -41.134998"
      ]
     },
     "execution_count": 11,
     "metadata": {},
     "output_type": "execute_result"
    }
   ],
   "source": [
    "valid_pred=model.predict(valid_x)\n",
    "valid_results=pd.DataFrame({'TOTAL_VALUE':valid_y,'predicted':valid_pred,'residual':valid_y-valid_pred})\n",
    "valid_results.head()"
   ]
  },
  {
   "cell_type": "code",
   "execution_count": 12,
   "id": "c92d7e79",
   "metadata": {
    "execution": {
     "iopub.execute_input": "2022-02-10T22:14:25.318600Z",
     "iopub.status.busy": "2022-02-10T22:14:25.317430Z",
     "iopub.status.idle": "2022-02-10T22:14:25.326165Z",
     "shell.execute_reply": "2022-02-10T22:14:25.326965Z",
     "shell.execute_reply.started": "2022-02-10T22:00:41.939911Z"
    },
    "papermill": {
     "duration": 0.05042,
     "end_time": "2022-02-10T22:14:25.327290",
     "exception": false,
     "start_time": "2022-02-10T22:14:25.276870",
     "status": "completed"
    },
    "tags": []
   },
   "outputs": [
    {
     "name": "stdout",
     "output_type": "stream",
     "text": [
      "Validation MAE for Liner Regression: 32\n"
     ]
    }
   ],
   "source": [
    "from sklearn.metrics import mean_absolute_error\n",
    "valid_pred_mae = mean_absolute_error(valid_pred, valid_y)\n",
    "print(\"Validation MAE for Liner Regression: {:,.0f}\".format(valid_pred_mae))"
   ]
  }
 ],
 "metadata": {
  "kernelspec": {
   "display_name": "Python 3",
   "language": "python",
   "name": "python3"
  },
  "language_info": {
   "codemirror_mode": {
    "name": "ipython",
    "version": 3
   },
   "file_extension": ".py",
   "mimetype": "text/x-python",
   "name": "python",
   "nbconvert_exporter": "python",
   "pygments_lexer": "ipython3",
   "version": "3.7.12"
  },
  "papermill": {
   "default_parameters": {},
   "duration": 13.797679,
   "end_time": "2022-02-10T22:14:26.467879",
   "environment_variables": {},
   "exception": null,
   "input_path": "__notebook__.ipynb",
   "output_path": "__notebook__.ipynb",
   "parameters": {},
   "start_time": "2022-02-10T22:14:12.670200",
   "version": "2.3.3"
  }
 },
 "nbformat": 4,
 "nbformat_minor": 5
}
